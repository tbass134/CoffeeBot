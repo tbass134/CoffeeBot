{
 "cells": [
  {
   "cell_type": "code",
   "execution_count": 31,
   "metadata": {
    "collapsed": true
   },
   "outputs": [],
   "source": [
    "%matplotlib inline\n",
    "\n",
    "import matplotlib\n",
    "import numpy as np\n",
    "import matplotlib.pyplot as plt\n",
    "import pandas as pd\n",
    "# Set random seed\n",
    "np.random.seed(42)"
   ]
  },
  {
   "cell_type": "code",
   "execution_count": 32,
   "metadata": {},
   "outputs": [
    {
     "name": "stdout",
     "output_type": "stream",
     "text": [
      "<class 'pandas.core.frame.DataFrame'>\n",
      "Index: 838 entries, B5FE9CA4-7080-41CA-9871-7FD90A1D9E75 to E2125D93-B18C-4F1E-AC51-D1F76A803DBD\n",
      "Data columns (total 9 columns):\n",
      "clouds         838 non-null int64\n",
      "date           838 non-null object\n",
      "humidity       838 non-null int64\n",
      "temp           838 non-null float64\n",
      "type           838 non-null int64\n",
      "visibility     838 non-null int64\n",
      "weatherCond    838 non-null object\n",
      "windSpeed      838 non-null float64\n",
      "zipcode        838 non-null object\n",
      "dtypes: float64(2), int64(4), object(3)\n",
      "memory usage: 65.5+ KB\n"
     ]
    }
   ],
   "source": [
    "data = pd.read_csv('data.csv', index_col=0)\n",
    "data = data[data['weatherCond'].notnull()]\n",
    "\n",
    "import sklearn.utils\n",
    "data = sklearn.utils.shuffle(data)\n",
    "\n",
    "labels = np.ravel(data[['type']],order='C')\n",
    "data.drop(['userId', 'lat', 'lon', 'location', 'device', 'zip', 'pressure', 'windDeg'],axis=1, inplace=True)\n",
    "data.info()\n"
   ]
  },
  {
   "cell_type": "code",
   "execution_count": 33,
   "metadata": {
    "collapsed": true
   },
   "outputs": [],
   "source": [
    "#force df to have same # of hot / iced rows\n",
    "hot = data.loc[data.type == 1]\n",
    "iced = data.loc[data.type == 0]\n",
    "\n",
    "#remove all hot\n",
    "data.drop(data[data.type == 1].index, inplace=True)\n",
    "\n",
    "num_delete = hot.shape[0] - iced.shape[0]\n",
    "indexes_to_keep = set(range(hot.shape[0])) - set(range(num_delete))\n",
    "hot_sliced = hot.take(list(indexes_to_keep))\n",
    "\n",
    "data = pd.concat([data, hot_sliced])\n",
    "data['type'].value_counts()\n",
    "labels = np.ravel(data[['type']],order='C')\n"
   ]
  },
  {
   "cell_type": "code",
   "execution_count": 34,
   "metadata": {},
   "outputs": [
    {
     "name": "stdout",
     "output_type": "stream",
     "text": [
      "iced (312, 9)\n",
      "hot (312, 9)\n"
     ]
    }
   ],
   "source": [
    "print(\"iced\", data[data['type']==0].shape)\n",
    "print(\"hot\",data[data['type']==1].shape)\n",
    "# data.drop(['type'],axis=1, inplace=True)\n",
    "\n"
   ]
  },
  {
   "cell_type": "code",
   "execution_count": 35,
   "metadata": {
    "collapsed": true
   },
   "outputs": [],
   "source": [
    "def to_bins(col, bins, lables):\n",
    "    data[col] = pd.cut(data[col], bins=bins, labels=lables)\n",
    "    return data[col]\n",
    "\n",
    "def to_categorical(data, cat_vars):\n",
    "    for var in cat_vars:\n",
    "        cat_list='var'+'_'+var\n",
    "        cat_list = pd.get_dummies(data[var], prefix=var)\n",
    "        data1=data.join(cat_list)\n",
    "        data=data1\n",
    "    data = data.drop(cat_vars, axis=1)\n",
    "    return data\n",
    "\n",
    "#convert visibilty from meters to miles\n",
    "def miles(meter):\n",
    "    return round(meter/1609.344)\n",
    "\n",
    "#round data\n",
    "def round(df):\n",
    "    return df.apply(lambda x: np.rint(x))\n",
    "\n",
    "from sklearn.preprocessing import LabelEncoder\n",
    "\n",
    "def labelEncoder(feature_name):\n",
    "    return labelencoder.fit_transform(data[feature_name])"
   ]
  },
  {
   "cell_type": "code",
   "execution_count": 36,
   "metadata": {
    "collapsed": true
   },
   "outputs": [],
   "source": [
    "data['temp'] = round(data['temp'])\n",
    "data['windSpeed'] = round(data['windSpeed'])\n",
    "data['visibility'] = miles(data['visibility'])"
   ]
  },
  {
   "cell_type": "code",
   "execution_count": 37,
   "metadata": {
    "collapsed": true
   },
   "outputs": [],
   "source": [
    "#feature engineering with date\n",
    "\n",
    "#make cols based on:\n",
    "#day_of_week\n",
    "#is_weekday\n",
    "#is_weekend\n",
    "#morning\n",
    "#afternoon\n",
    "#evening\n",
    "\n",
    "from datetime import datetime\n",
    "from dateutil import parser\n",
    "\n",
    "day_of_week = lambda x: parser.parse(x).weekday()\n",
    "is_weekend = lambda x: parser.parse(x).weekday() > 5\n",
    "month = lambda x: parser.parse(x).month\n",
    "\n",
    "\n",
    "def season_of_date(date_str):\n",
    "    month =  parser.parse(date_str).month\n",
    "    return (\n",
    "        \"spring\" if month >=2 and month <=5\n",
    "        else\n",
    "        \"summer\" if month >=6 and month <=8\n",
    "        else\n",
    "        \"fall\" if month >=9 and month <=11\n",
    "        else\n",
    "        \"winter\"\n",
    "    )\n",
    "\n",
    "\n",
    "def get_part_of_day(hour):\n",
    "    return (\n",
    "        \"morning\" if 5 <= hour <= 11\n",
    "        else\n",
    "        \"afternoon\" if 12 <= hour <= 17\n",
    "        else\n",
    "        \"evening\" if 18 <= hour <= 22\n",
    "        else\n",
    "        \"night\"\n",
    "    )\n",
    "\n",
    "\n",
    "part_of_day = lambda x: get_part_of_day(parser.parse(x).hour)\n",
    "data['part_of_day'] =  data['date'].map(part_of_day)\n",
    "\n",
    "data['day_of_week'] =  data['date'].map(day_of_week)\n",
    "data['is_weekend'] =  data['date'].map(is_weekend)\n",
    "\n",
    "\n",
    "data['season'] = data['date'].map(season_of_date)\n",
    "\n",
    "data = to_categorical(data, cat_vars=['season'])\n",
    "data = to_categorical(data, cat_vars=['part_of_day'])\n",
    "\n",
    "data['is_weekend'] = data['is_weekend'].astype(int)\n",
    "\n"
   ]
  },
  {
   "cell_type": "code",
   "execution_count": 38,
   "metadata": {},
   "outputs": [
    {
     "data": {
      "text/html": [
       "<div>\n",
       "<style scoped>\n",
       "    .dataframe tbody tr th:only-of-type {\n",
       "        vertical-align: middle;\n",
       "    }\n",
       "\n",
       "    .dataframe tbody tr th {\n",
       "        vertical-align: top;\n",
       "    }\n",
       "\n",
       "    .dataframe thead th {\n",
       "        text-align: right;\n",
       "    }\n",
       "</style>\n",
       "<table border=\"1\" class=\"dataframe\">\n",
       "  <thead>\n",
       "    <tr style=\"text-align: right;\">\n",
       "      <th></th>\n",
       "      <th>clouds</th>\n",
       "      <th>date</th>\n",
       "      <th>humidity</th>\n",
       "      <th>temp</th>\n",
       "      <th>type</th>\n",
       "      <th>visibility</th>\n",
       "      <th>weatherCond</th>\n",
       "      <th>windSpeed</th>\n",
       "      <th>zipcode</th>\n",
       "      <th>day_of_week</th>\n",
       "      <th>is_weekend</th>\n",
       "      <th>season_fall</th>\n",
       "      <th>season_spring</th>\n",
       "      <th>season_summer</th>\n",
       "      <th>season_winter</th>\n",
       "      <th>part_of_day_afternoon</th>\n",
       "      <th>part_of_day_evening</th>\n",
       "      <th>part_of_day_morning</th>\n",
       "      <th>part_of_day_night</th>\n",
       "    </tr>\n",
       "  </thead>\n",
       "  <tbody>\n",
       "    <tr>\n",
       "      <th>A273F270-DE31-45C0-B77F-0EF8DE909861</th>\n",
       "      <td>75</td>\n",
       "      <td>2018-04-09T11:40:11.795Z</td>\n",
       "      <td>100</td>\n",
       "      <td>72.0</td>\n",
       "      <td>0</td>\n",
       "      <td>10.0</td>\n",
       "      <td>Clouds</td>\n",
       "      <td>4.0</td>\n",
       "      <td>34117</td>\n",
       "      <td>0</td>\n",
       "      <td>0</td>\n",
       "      <td>0</td>\n",
       "      <td>1</td>\n",
       "      <td>0</td>\n",
       "      <td>0</td>\n",
       "      <td>0</td>\n",
       "      <td>0</td>\n",
       "      <td>1</td>\n",
       "      <td>0</td>\n",
       "    </tr>\n",
       "    <tr>\n",
       "      <th>73161280-6086-11e7-be36-e17cbde4202e</th>\n",
       "      <td>90</td>\n",
       "      <td>2017-07-04T07:00:23.080Z</td>\n",
       "      <td>94</td>\n",
       "      <td>61.0</td>\n",
       "      <td>0</td>\n",
       "      <td>10.0</td>\n",
       "      <td>Overcast</td>\n",
       "      <td>5.0</td>\n",
       "      <td>94103</td>\n",
       "      <td>1</td>\n",
       "      <td>0</td>\n",
       "      <td>0</td>\n",
       "      <td>0</td>\n",
       "      <td>1</td>\n",
       "      <td>0</td>\n",
       "      <td>0</td>\n",
       "      <td>0</td>\n",
       "      <td>1</td>\n",
       "      <td>0</td>\n",
       "    </tr>\n",
       "    <tr>\n",
       "      <th>73F14A86-FCF7-4E96-9074-322E52CCB75D</th>\n",
       "      <td>75</td>\n",
       "      <td>2019-01-03T21:45:31.569Z</td>\n",
       "      <td>68</td>\n",
       "      <td>25.0</td>\n",
       "      <td>0</td>\n",
       "      <td>6.0</td>\n",
       "      <td>Clouds</td>\n",
       "      <td>14.0</td>\n",
       "      <td>05-831</td>\n",
       "      <td>3</td>\n",
       "      <td>0</td>\n",
       "      <td>0</td>\n",
       "      <td>0</td>\n",
       "      <td>0</td>\n",
       "      <td>1</td>\n",
       "      <td>0</td>\n",
       "      <td>1</td>\n",
       "      <td>0</td>\n",
       "      <td>0</td>\n",
       "    </tr>\n",
       "    <tr>\n",
       "      <th>465179C2-EAAB-447E-B88A-1070AC66155D</th>\n",
       "      <td>40</td>\n",
       "      <td>2018-07-11T11:05:04.083Z</td>\n",
       "      <td>73</td>\n",
       "      <td>70.0</td>\n",
       "      <td>0</td>\n",
       "      <td>10.0</td>\n",
       "      <td>Fog</td>\n",
       "      <td>9.0</td>\n",
       "      <td>10923</td>\n",
       "      <td>2</td>\n",
       "      <td>0</td>\n",
       "      <td>0</td>\n",
       "      <td>0</td>\n",
       "      <td>1</td>\n",
       "      <td>0</td>\n",
       "      <td>0</td>\n",
       "      <td>0</td>\n",
       "      <td>1</td>\n",
       "      <td>0</td>\n",
       "    </tr>\n",
       "    <tr>\n",
       "      <th>7B250E85-9B8F-49A3-AA57-BB71C354FDE9</th>\n",
       "      <td>40</td>\n",
       "      <td>2018-04-05T20:01:18.509Z</td>\n",
       "      <td>58</td>\n",
       "      <td>84.0</td>\n",
       "      <td>0</td>\n",
       "      <td>10.0</td>\n",
       "      <td>Clouds</td>\n",
       "      <td>13.0</td>\n",
       "      <td>34117</td>\n",
       "      <td>3</td>\n",
       "      <td>0</td>\n",
       "      <td>0</td>\n",
       "      <td>1</td>\n",
       "      <td>0</td>\n",
       "      <td>0</td>\n",
       "      <td>0</td>\n",
       "      <td>1</td>\n",
       "      <td>0</td>\n",
       "      <td>0</td>\n",
       "    </tr>\n",
       "  </tbody>\n",
       "</table>\n",
       "</div>"
      ],
      "text/plain": [
       "                                      clouds                      date  \\\n",
       "A273F270-DE31-45C0-B77F-0EF8DE909861      75  2018-04-09T11:40:11.795Z   \n",
       "73161280-6086-11e7-be36-e17cbde4202e      90  2017-07-04T07:00:23.080Z   \n",
       "73F14A86-FCF7-4E96-9074-322E52CCB75D      75  2019-01-03T21:45:31.569Z   \n",
       "465179C2-EAAB-447E-B88A-1070AC66155D      40  2018-07-11T11:05:04.083Z   \n",
       "7B250E85-9B8F-49A3-AA57-BB71C354FDE9      40  2018-04-05T20:01:18.509Z   \n",
       "\n",
       "                                      humidity  temp  type  visibility  \\\n",
       "A273F270-DE31-45C0-B77F-0EF8DE909861       100  72.0     0        10.0   \n",
       "73161280-6086-11e7-be36-e17cbde4202e        94  61.0     0        10.0   \n",
       "73F14A86-FCF7-4E96-9074-322E52CCB75D        68  25.0     0         6.0   \n",
       "465179C2-EAAB-447E-B88A-1070AC66155D        73  70.0     0        10.0   \n",
       "7B250E85-9B8F-49A3-AA57-BB71C354FDE9        58  84.0     0        10.0   \n",
       "\n",
       "                                     weatherCond  windSpeed zipcode  \\\n",
       "A273F270-DE31-45C0-B77F-0EF8DE909861      Clouds        4.0   34117   \n",
       "73161280-6086-11e7-be36-e17cbde4202e    Overcast        5.0   94103   \n",
       "73F14A86-FCF7-4E96-9074-322E52CCB75D      Clouds       14.0  05-831   \n",
       "465179C2-EAAB-447E-B88A-1070AC66155D         Fog        9.0   10923   \n",
       "7B250E85-9B8F-49A3-AA57-BB71C354FDE9      Clouds       13.0   34117   \n",
       "\n",
       "                                      day_of_week  is_weekend  season_fall  \\\n",
       "A273F270-DE31-45C0-B77F-0EF8DE909861            0           0            0   \n",
       "73161280-6086-11e7-be36-e17cbde4202e            1           0            0   \n",
       "73F14A86-FCF7-4E96-9074-322E52CCB75D            3           0            0   \n",
       "465179C2-EAAB-447E-B88A-1070AC66155D            2           0            0   \n",
       "7B250E85-9B8F-49A3-AA57-BB71C354FDE9            3           0            0   \n",
       "\n",
       "                                      season_spring  season_summer  \\\n",
       "A273F270-DE31-45C0-B77F-0EF8DE909861              1              0   \n",
       "73161280-6086-11e7-be36-e17cbde4202e              0              1   \n",
       "73F14A86-FCF7-4E96-9074-322E52CCB75D              0              0   \n",
       "465179C2-EAAB-447E-B88A-1070AC66155D              0              1   \n",
       "7B250E85-9B8F-49A3-AA57-BB71C354FDE9              1              0   \n",
       "\n",
       "                                      season_winter  part_of_day_afternoon  \\\n",
       "A273F270-DE31-45C0-B77F-0EF8DE909861              0                      0   \n",
       "73161280-6086-11e7-be36-e17cbde4202e              0                      0   \n",
       "73F14A86-FCF7-4E96-9074-322E52CCB75D              1                      0   \n",
       "465179C2-EAAB-447E-B88A-1070AC66155D              0                      0   \n",
       "7B250E85-9B8F-49A3-AA57-BB71C354FDE9              0                      0   \n",
       "\n",
       "                                      part_of_day_evening  \\\n",
       "A273F270-DE31-45C0-B77F-0EF8DE909861                    0   \n",
       "73161280-6086-11e7-be36-e17cbde4202e                    0   \n",
       "73F14A86-FCF7-4E96-9074-322E52CCB75D                    1   \n",
       "465179C2-EAAB-447E-B88A-1070AC66155D                    0   \n",
       "7B250E85-9B8F-49A3-AA57-BB71C354FDE9                    1   \n",
       "\n",
       "                                      part_of_day_morning  part_of_day_night  \n",
       "A273F270-DE31-45C0-B77F-0EF8DE909861                    1                  0  \n",
       "73161280-6086-11e7-be36-e17cbde4202e                    1                  0  \n",
       "73F14A86-FCF7-4E96-9074-322E52CCB75D                    0                  0  \n",
       "465179C2-EAAB-447E-B88A-1070AC66155D                    1                  0  \n",
       "7B250E85-9B8F-49A3-AA57-BB71C354FDE9                    0                  0  "
      ]
     },
     "execution_count": 38,
     "metadata": {},
     "output_type": "execute_result"
    }
   ],
   "source": [
    "data.head()"
   ]
  },
  {
   "cell_type": "code",
   "execution_count": 39,
   "metadata": {},
   "outputs": [
    {
     "data": {
      "text/plain": [
       "Clouds          236\n",
       "Rain            172\n",
       "Clear           168\n",
       "Fog              22\n",
       "Haze             14\n",
       "Snow              6\n",
       "Thunderstorm      4\n",
       "Smoke             2\n",
       "Name: weatherCond, dtype: int64"
      ]
     },
     "execution_count": 39,
     "metadata": {},
     "output_type": "execute_result"
    }
   ],
   "source": [
    "data['weatherCond']\n",
    "for index,rows in data.iterrows():\n",
    "    if (\"cloud\" in data.loc[index, 'weatherCond'].lower() or \"overcast\" in data.loc[index, 'weatherCond'].lower()):\n",
    "        data.loc[index, 'weatherCond'] = 'Clouds'\n",
    "        \n",
    "    if (\"snow\" in data.loc[index, 'weatherCond'].lower()):\n",
    "        data.loc[index, 'weatherCond'] = 'Snow'\n",
    "        \n",
    "    if (\"rain\" in data.loc[index, 'weatherCond'].lower() or \"drizzle\" in data.loc[index, 'weatherCond'].lower() or \"mist\" in data.loc[index, 'weatherCond'].lower()):\n",
    "        data.loc[index, 'weatherCond'] = 'Rain'\n",
    "        \n",
    "    if (\"none\" in data.loc[index, 'weatherCond'].lower()):\n",
    "        data.loc[index, 'weatherCond'] = 'Clear'\n",
    "    \n",
    "\n",
    "data['weatherCond'].value_counts()"
   ]
  },
  {
   "cell_type": "code",
   "execution_count": 40,
   "metadata": {},
   "outputs": [
    {
     "data": {
      "text/html": [
       "<div>\n",
       "<style scoped>\n",
       "    .dataframe tbody tr th:only-of-type {\n",
       "        vertical-align: middle;\n",
       "    }\n",
       "\n",
       "    .dataframe tbody tr th {\n",
       "        vertical-align: top;\n",
       "    }\n",
       "\n",
       "    .dataframe thead th {\n",
       "        text-align: right;\n",
       "    }\n",
       "</style>\n",
       "<table border=\"1\" class=\"dataframe\">\n",
       "  <thead>\n",
       "    <tr style=\"text-align: right;\">\n",
       "      <th></th>\n",
       "      <th>clouds</th>\n",
       "      <th>humidity</th>\n",
       "      <th>temp</th>\n",
       "      <th>visibility</th>\n",
       "      <th>windSpeed</th>\n",
       "      <th>day_of_week</th>\n",
       "      <th>is_weekend</th>\n",
       "      <th>season_fall</th>\n",
       "      <th>season_spring</th>\n",
       "      <th>season_summer</th>\n",
       "      <th>...</th>\n",
       "      <th>part_of_day_morning</th>\n",
       "      <th>part_of_day_night</th>\n",
       "      <th>weatherCond_Clear</th>\n",
       "      <th>weatherCond_Clouds</th>\n",
       "      <th>weatherCond_Fog</th>\n",
       "      <th>weatherCond_Haze</th>\n",
       "      <th>weatherCond_Rain</th>\n",
       "      <th>weatherCond_Smoke</th>\n",
       "      <th>weatherCond_Snow</th>\n",
       "      <th>weatherCond_Thunderstorm</th>\n",
       "    </tr>\n",
       "  </thead>\n",
       "  <tbody>\n",
       "    <tr>\n",
       "      <th>A273F270-DE31-45C0-B77F-0EF8DE909861</th>\n",
       "      <td>75</td>\n",
       "      <td>100</td>\n",
       "      <td>72.0</td>\n",
       "      <td>10.0</td>\n",
       "      <td>4.0</td>\n",
       "      <td>0</td>\n",
       "      <td>0</td>\n",
       "      <td>0</td>\n",
       "      <td>1</td>\n",
       "      <td>0</td>\n",
       "      <td>...</td>\n",
       "      <td>1</td>\n",
       "      <td>0</td>\n",
       "      <td>0</td>\n",
       "      <td>1</td>\n",
       "      <td>0</td>\n",
       "      <td>0</td>\n",
       "      <td>0</td>\n",
       "      <td>0</td>\n",
       "      <td>0</td>\n",
       "      <td>0</td>\n",
       "    </tr>\n",
       "    <tr>\n",
       "      <th>73161280-6086-11e7-be36-e17cbde4202e</th>\n",
       "      <td>90</td>\n",
       "      <td>94</td>\n",
       "      <td>61.0</td>\n",
       "      <td>10.0</td>\n",
       "      <td>5.0</td>\n",
       "      <td>1</td>\n",
       "      <td>0</td>\n",
       "      <td>0</td>\n",
       "      <td>0</td>\n",
       "      <td>1</td>\n",
       "      <td>...</td>\n",
       "      <td>1</td>\n",
       "      <td>0</td>\n",
       "      <td>0</td>\n",
       "      <td>1</td>\n",
       "      <td>0</td>\n",
       "      <td>0</td>\n",
       "      <td>0</td>\n",
       "      <td>0</td>\n",
       "      <td>0</td>\n",
       "      <td>0</td>\n",
       "    </tr>\n",
       "    <tr>\n",
       "      <th>73F14A86-FCF7-4E96-9074-322E52CCB75D</th>\n",
       "      <td>75</td>\n",
       "      <td>68</td>\n",
       "      <td>25.0</td>\n",
       "      <td>6.0</td>\n",
       "      <td>14.0</td>\n",
       "      <td>3</td>\n",
       "      <td>0</td>\n",
       "      <td>0</td>\n",
       "      <td>0</td>\n",
       "      <td>0</td>\n",
       "      <td>...</td>\n",
       "      <td>0</td>\n",
       "      <td>0</td>\n",
       "      <td>0</td>\n",
       "      <td>1</td>\n",
       "      <td>0</td>\n",
       "      <td>0</td>\n",
       "      <td>0</td>\n",
       "      <td>0</td>\n",
       "      <td>0</td>\n",
       "      <td>0</td>\n",
       "    </tr>\n",
       "    <tr>\n",
       "      <th>465179C2-EAAB-447E-B88A-1070AC66155D</th>\n",
       "      <td>40</td>\n",
       "      <td>73</td>\n",
       "      <td>70.0</td>\n",
       "      <td>10.0</td>\n",
       "      <td>9.0</td>\n",
       "      <td>2</td>\n",
       "      <td>0</td>\n",
       "      <td>0</td>\n",
       "      <td>0</td>\n",
       "      <td>1</td>\n",
       "      <td>...</td>\n",
       "      <td>1</td>\n",
       "      <td>0</td>\n",
       "      <td>0</td>\n",
       "      <td>0</td>\n",
       "      <td>1</td>\n",
       "      <td>0</td>\n",
       "      <td>0</td>\n",
       "      <td>0</td>\n",
       "      <td>0</td>\n",
       "      <td>0</td>\n",
       "    </tr>\n",
       "    <tr>\n",
       "      <th>7B250E85-9B8F-49A3-AA57-BB71C354FDE9</th>\n",
       "      <td>40</td>\n",
       "      <td>58</td>\n",
       "      <td>84.0</td>\n",
       "      <td>10.0</td>\n",
       "      <td>13.0</td>\n",
       "      <td>3</td>\n",
       "      <td>0</td>\n",
       "      <td>0</td>\n",
       "      <td>1</td>\n",
       "      <td>0</td>\n",
       "      <td>...</td>\n",
       "      <td>0</td>\n",
       "      <td>0</td>\n",
       "      <td>0</td>\n",
       "      <td>1</td>\n",
       "      <td>0</td>\n",
       "      <td>0</td>\n",
       "      <td>0</td>\n",
       "      <td>0</td>\n",
       "      <td>0</td>\n",
       "      <td>0</td>\n",
       "    </tr>\n",
       "  </tbody>\n",
       "</table>\n",
       "<p>5 rows × 23 columns</p>\n",
       "</div>"
      ],
      "text/plain": [
       "                                      clouds  humidity  temp  visibility  \\\n",
       "A273F270-DE31-45C0-B77F-0EF8DE909861      75       100  72.0        10.0   \n",
       "73161280-6086-11e7-be36-e17cbde4202e      90        94  61.0        10.0   \n",
       "73F14A86-FCF7-4E96-9074-322E52CCB75D      75        68  25.0         6.0   \n",
       "465179C2-EAAB-447E-B88A-1070AC66155D      40        73  70.0        10.0   \n",
       "7B250E85-9B8F-49A3-AA57-BB71C354FDE9      40        58  84.0        10.0   \n",
       "\n",
       "                                      windSpeed  day_of_week  is_weekend  \\\n",
       "A273F270-DE31-45C0-B77F-0EF8DE909861        4.0            0           0   \n",
       "73161280-6086-11e7-be36-e17cbde4202e        5.0            1           0   \n",
       "73F14A86-FCF7-4E96-9074-322E52CCB75D       14.0            3           0   \n",
       "465179C2-EAAB-447E-B88A-1070AC66155D        9.0            2           0   \n",
       "7B250E85-9B8F-49A3-AA57-BB71C354FDE9       13.0            3           0   \n",
       "\n",
       "                                      season_fall  season_spring  \\\n",
       "A273F270-DE31-45C0-B77F-0EF8DE909861            0              1   \n",
       "73161280-6086-11e7-be36-e17cbde4202e            0              0   \n",
       "73F14A86-FCF7-4E96-9074-322E52CCB75D            0              0   \n",
       "465179C2-EAAB-447E-B88A-1070AC66155D            0              0   \n",
       "7B250E85-9B8F-49A3-AA57-BB71C354FDE9            0              1   \n",
       "\n",
       "                                      season_summer            ...             \\\n",
       "A273F270-DE31-45C0-B77F-0EF8DE909861              0            ...              \n",
       "73161280-6086-11e7-be36-e17cbde4202e              1            ...              \n",
       "73F14A86-FCF7-4E96-9074-322E52CCB75D              0            ...              \n",
       "465179C2-EAAB-447E-B88A-1070AC66155D              1            ...              \n",
       "7B250E85-9B8F-49A3-AA57-BB71C354FDE9              0            ...              \n",
       "\n",
       "                                      part_of_day_morning  part_of_day_night  \\\n",
       "A273F270-DE31-45C0-B77F-0EF8DE909861                    1                  0   \n",
       "73161280-6086-11e7-be36-e17cbde4202e                    1                  0   \n",
       "73F14A86-FCF7-4E96-9074-322E52CCB75D                    0                  0   \n",
       "465179C2-EAAB-447E-B88A-1070AC66155D                    1                  0   \n",
       "7B250E85-9B8F-49A3-AA57-BB71C354FDE9                    0                  0   \n",
       "\n",
       "                                      weatherCond_Clear  weatherCond_Clouds  \\\n",
       "A273F270-DE31-45C0-B77F-0EF8DE909861                  0                   1   \n",
       "73161280-6086-11e7-be36-e17cbde4202e                  0                   1   \n",
       "73F14A86-FCF7-4E96-9074-322E52CCB75D                  0                   1   \n",
       "465179C2-EAAB-447E-B88A-1070AC66155D                  0                   0   \n",
       "7B250E85-9B8F-49A3-AA57-BB71C354FDE9                  0                   1   \n",
       "\n",
       "                                      weatherCond_Fog  weatherCond_Haze  \\\n",
       "A273F270-DE31-45C0-B77F-0EF8DE909861                0                 0   \n",
       "73161280-6086-11e7-be36-e17cbde4202e                0                 0   \n",
       "73F14A86-FCF7-4E96-9074-322E52CCB75D                0                 0   \n",
       "465179C2-EAAB-447E-B88A-1070AC66155D                1                 0   \n",
       "7B250E85-9B8F-49A3-AA57-BB71C354FDE9                0                 0   \n",
       "\n",
       "                                      weatherCond_Rain  weatherCond_Smoke  \\\n",
       "A273F270-DE31-45C0-B77F-0EF8DE909861                 0                  0   \n",
       "73161280-6086-11e7-be36-e17cbde4202e                 0                  0   \n",
       "73F14A86-FCF7-4E96-9074-322E52CCB75D                 0                  0   \n",
       "465179C2-EAAB-447E-B88A-1070AC66155D                 0                  0   \n",
       "7B250E85-9B8F-49A3-AA57-BB71C354FDE9                 0                  0   \n",
       "\n",
       "                                      weatherCond_Snow  \\\n",
       "A273F270-DE31-45C0-B77F-0EF8DE909861                 0   \n",
       "73161280-6086-11e7-be36-e17cbde4202e                 0   \n",
       "73F14A86-FCF7-4E96-9074-322E52CCB75D                 0   \n",
       "465179C2-EAAB-447E-B88A-1070AC66155D                 0   \n",
       "7B250E85-9B8F-49A3-AA57-BB71C354FDE9                 0   \n",
       "\n",
       "                                      weatherCond_Thunderstorm  \n",
       "A273F270-DE31-45C0-B77F-0EF8DE909861                         0  \n",
       "73161280-6086-11e7-be36-e17cbde4202e                         0  \n",
       "73F14A86-FCF7-4E96-9074-322E52CCB75D                         0  \n",
       "465179C2-EAAB-447E-B88A-1070AC66155D                         0  \n",
       "7B250E85-9B8F-49A3-AA57-BB71C354FDE9                         0  \n",
       "\n",
       "[5 rows x 23 columns]"
      ]
     },
     "execution_count": 40,
     "metadata": {},
     "output_type": "execute_result"
    }
   ],
   "source": [
    "# one- hot encoding\n",
    "cat_vars=['weatherCond']\n",
    "for var in cat_vars:\n",
    "    cat_list='var'+'_'+var\n",
    "    cat_list = pd.get_dummies(data[var], prefix=var)\n",
    "    data1=data.join(cat_list)\n",
    "    data=data1\n",
    "data = data.drop(['weatherCond'], axis=1)\n",
    "\n",
    "data.drop(['type', 'date','zipcode'],axis=1, inplace=True)\n",
    "data.head()"
   ]
  },
  {
   "cell_type": "code",
   "execution_count": 41,
   "metadata": {
    "scrolled": false
   },
   "outputs": [
    {
     "name": "stdout",
     "output_type": "stream",
     "text": [
      "<class 'pandas.core.frame.DataFrame'>\n",
      "Index: 624 entries, A273F270-DE31-45C0-B77F-0EF8DE909861 to 55D67E58-555C-43D6-AAB4-B1A478EC1DCE\n",
      "Data columns (total 23 columns):\n",
      "clouds                      624 non-null int64\n",
      "humidity                    624 non-null int64\n",
      "temp                        624 non-null float64\n",
      "visibility                  624 non-null float64\n",
      "windSpeed                   624 non-null float64\n",
      "day_of_week                 624 non-null int64\n",
      "is_weekend                  624 non-null int64\n",
      "season_fall                 624 non-null uint8\n",
      "season_spring               624 non-null uint8\n",
      "season_summer               624 non-null uint8\n",
      "season_winter               624 non-null uint8\n",
      "part_of_day_afternoon       624 non-null uint8\n",
      "part_of_day_evening         624 non-null uint8\n",
      "part_of_day_morning         624 non-null uint8\n",
      "part_of_day_night           624 non-null uint8\n",
      "weatherCond_Clear           624 non-null uint8\n",
      "weatherCond_Clouds          624 non-null uint8\n",
      "weatherCond_Fog             624 non-null uint8\n",
      "weatherCond_Haze            624 non-null uint8\n",
      "weatherCond_Rain            624 non-null uint8\n",
      "weatherCond_Smoke           624 non-null uint8\n",
      "weatherCond_Snow            624 non-null uint8\n",
      "weatherCond_Thunderstorm    624 non-null uint8\n",
      "dtypes: float64(3), int64(4), uint8(16)\n",
      "memory usage: 68.8+ KB\n"
     ]
    }
   ],
   "source": [
    "data.info()"
   ]
  },
  {
   "cell_type": "code",
   "execution_count": 42,
   "metadata": {},
   "outputs": [
    {
     "data": {
      "text/plain": [
       "<matplotlib.axes._subplots.AxesSubplot at 0x11aa5b400>"
      ]
     },
     "execution_count": 42,
     "metadata": {},
     "output_type": "execute_result"
    },
    {
     "data": {
      "image/png": "[encoded data removed]",
      "text/plain": [
       "<matplotlib.figure.Figure at 0x11aa8a710>"
      ]
     },
     "metadata": {},
     "output_type": "display_data"
    }
   ],
   "source": [
    "import seaborn as sns\n",
    "corr = data.corr()\n",
    "sns.heatmap(corr, \n",
    "            xticklabels=corr.columns.values,\n",
    "            yticklabels=corr.columns.values)"
   ]
  },
  {
   "cell_type": "code",
   "execution_count": 13,
   "metadata": {
    "collapsed": true
   },
   "outputs": [],
   "source": [
    "#save the modified csv\n",
    "data.to_csv('coffeeBotData-Cleaned.csv')"
   ]
  },
  {
   "cell_type": "code",
   "execution_count": 17,
   "metadata": {},
   "outputs": [],
   "source": []
  },
  {
   "cell_type": "code",
   "execution_count": 53,
   "metadata": {},
   "outputs": [
    {
     "name": "stdout",
     "output_type": "stream",
     "text": [
      "final features\n",
      "<class 'pandas.core.frame.DataFrame'>\n",
      "Index: 624 entries, A273F270-DE31-45C0-B77F-0EF8DE909861 to 55D67E58-555C-43D6-AAB4-B1A478EC1DCE\n",
      "Data columns (total 23 columns):\n",
      "clouds                      624 non-null int64\n",
      "humidity                    624 non-null int64\n",
      "temp                        624 non-null float64\n",
      "visibility                  624 non-null float64\n",
      "windSpeed                   624 non-null float64\n",
      "day_of_week                 624 non-null int64\n",
      "is_weekend                  624 non-null int64\n",
      "season_fall                 624 non-null uint8\n",
      "season_spring               624 non-null uint8\n",
      "season_summer               624 non-null uint8\n",
      "season_winter               624 non-null uint8\n",
      "part_of_day_afternoon       624 non-null uint8\n",
      "part_of_day_evening         624 non-null uint8\n",
      "part_of_day_morning         624 non-null uint8\n",
      "part_of_day_night           624 non-null uint8\n",
      "weatherCond_Clear           624 non-null uint8\n",
      "weatherCond_Clouds          624 non-null uint8\n",
      "weatherCond_Fog             624 non-null uint8\n",
      "weatherCond_Haze            624 non-null uint8\n",
      "weatherCond_Rain            624 non-null uint8\n",
      "weatherCond_Smoke           624 non-null uint8\n",
      "weatherCond_Snow            624 non-null uint8\n",
      "weatherCond_Thunderstorm    624 non-null uint8\n",
      "dtypes: float64(3), int64(4), uint8(16)\n",
      "memory usage: 68.8+ KB\n",
      "None\n"
     ]
    }
   ],
   "source": [
    "print(\"final features\")\n",
    "print(data.info())"
   ]
  },
  {
   "cell_type": "code",
   "execution_count": 44,
   "metadata": {},
   "outputs": [
    {
     "name": "stdout",
     "output_type": "stream",
     "text": [
      "data (624, 23)\n",
      "labels (624,)\n"
     ]
    }
   ],
   "source": [
    "print(\"data\",data.shape)\n",
    "print(\"labels\", labels.shape)"
   ]
  },
  {
   "cell_type": "code",
   "execution_count": 45,
   "metadata": {
    "scrolled": true
   },
   "outputs": [
    {
     "name": "stdout",
     "output_type": "stream",
     "text": [
      "[False False False False False False False  True False False  True False\n",
      " False False False False False  True False False False  True False]\n",
      "[20 17 13 15 14 18  7  1  5 19  1 12  3 11  4  9 10  1 16  8  6  1  2]\n"
     ]
    }
   ],
   "source": [
    "from sklearn.feature_selection import RFE\n",
    "from sklearn.linear_model import LogisticRegression\n",
    "model = LogisticRegression()\n",
    "rfe = RFE(model, 4)\n",
    "rfe = rfe.fit(data, labels)\n",
    "print(rfe.support_)\n",
    "print(rfe.ranking_)"
   ]
  },
  {
   "cell_type": "code",
   "execution_count": 46,
   "metadata": {
    "collapsed": true
   },
   "outputs": [],
   "source": [
    "X = data#data[['lat','lon', 'temp', 'windSpeed']]\n",
    "y = labels\n",
    "from sklearn.model_selection import train_test_split\n",
    "X_train, X_test, y_train, y_test = train_test_split(X, y, test_size=0.3, random_state=42)\n"
   ]
  },
  {
   "cell_type": "code",
   "execution_count": 47,
   "metadata": {},
   "outputs": [
    {
     "name": "stdout",
     "output_type": "stream",
     "text": [
      "Logistic regression accuracy: 0.835\n"
     ]
    }
   ],
   "source": [
    "from sklearn.linear_model import LogisticRegression\n",
    "from sklearn import metrics\n",
    "logreg = LogisticRegression()\n",
    "logreg.fit(X_train, y_train)\n",
    "\n",
    "from sklearn.metrics import accuracy_score\n",
    "print('Logistic regression accuracy: {:.3f}'.format(accuracy_score(y_test, logreg.predict(X_test))))"
   ]
  },
  {
   "cell_type": "code",
   "execution_count": 48,
   "metadata": {},
   "outputs": [
    {
     "data": {
      "text/plain": [
       "LinearRegression(copy_X=True, fit_intercept=True, n_jobs=1, normalize=False)"
      ]
     },
     "execution_count": 48,
     "metadata": {},
     "output_type": "execute_result"
    }
   ],
   "source": [
    "from sklearn.linear_model import LinearRegression\n",
    "reg = LinearRegression()\n",
    "reg.fit(X_train,y_train)"
   ]
  },
  {
   "cell_type": "code",
   "execution_count": 49,
   "metadata": {},
   "outputs": [
    {
     "name": "stdout",
     "output_type": "stream",
     "text": [
      "Random Forest Accuracy: 0.814\n"
     ]
    },
    {
     "name": "stderr",
     "output_type": "stream",
     "text": [
      "/Users/antoniohung/anaconda/lib/python3.6/site-packages/sklearn/ensemble/weight_boosting.py:29: DeprecationWarning: numpy.core.umath_tests is an internal NumPy module and should not be imported. It will be removed in a future NumPy release.\n",
      "  from numpy.core.umath_tests import inner1d\n"
     ]
    }
   ],
   "source": [
    "#random forest\n",
    "from sklearn.ensemble import RandomForestClassifier\n",
    "rf = RandomForestClassifier()\n",
    "rf.fit(X_train, y_train)\n",
    "print('Random Forest Accuracy: {:.3f}'.format(accuracy_score(y_test, rf.predict(X_test))))"
   ]
  },
  {
   "cell_type": "code",
   "execution_count": 50,
   "metadata": {},
   "outputs": [
    {
     "name": "stdout",
     "output_type": "stream",
     "text": [
      "Support vector machine accuracy: 0.686\n"
     ]
    }
   ],
   "source": [
    "#SVM\n",
    "from sklearn.svm import SVC\n",
    "svc = SVC()\n",
    "svc.fit(X_train, y_train)\n",
    "print('Support vector machine accuracy: {:.3f}'.format(accuracy_score(y_test, svc.predict(X_test))))              "
   ]
  },
  {
   "cell_type": "code",
   "execution_count": 51,
   "metadata": {},
   "outputs": [
    {
     "name": "stdout",
     "output_type": "stream",
     "text": [
      "0.6445126751692646\n",
      "0.6307353172728704\n"
     ]
    }
   ],
   "source": [
    "from sklearn import model_selection as ms\n",
    "from sklearn.model_selection import cross_val_score\n",
    "scoring = 'accuracy'\n",
    "\n",
    "\n",
    "kfoldMean = ms.cross_val_score(svc, X_train, y_train, cv = ms.KFold(), scoring=scoring).mean()\n",
    "Kfold_shuggle = ms.cross_val_score(svc, X_train, y_train, cv = ms.KFold(shuffle = True), scoring=scoring).mean()\n",
    "print(kfoldMean)\n",
    "print(Kfold_shuggle)"
   ]
  },
  {
   "cell_type": "code",
   "execution_count": 239,
   "metadata": {
    "collapsed": true
   },
   "outputs": [],
   "source": [
    "#save mode\n",
    "import pickle\n",
    "# filename = 'svc.sav'\n",
    "filename = 'models/rf.sav'\n",
    "pickle.dump(rf, open(filename, 'wb'), protocol=2)"
   ]
  },
  {
   "cell_type": "code",
   "execution_count": 52,
   "metadata": {
    "collapsed": true
   },
   "outputs": [],
   "source": [
    "\n",
    "#save mode\n",
    "import pickle\n",
    "filename = 'models/logreg.sav'\n",
    "# filename = 'rf.sav'\n",
    "pickle.dump(logreg, open(filename, 'wb'), protocol=2)"
   ]
  },
  {
   "cell_type": "code",
   "execution_count": null,
   "metadata": {
    "collapsed": true
   },
   "outputs": [],
   "source": [
    "file = open(filename, 'rb')\n",
    "svc = pickle.load(file)\n",
    "svc"
   ]
  },
  {
   "cell_type": "code",
   "execution_count": null,
   "metadata": {
    "collapsed": true
   },
   "outputs": [],
   "source": []
  }
 ],
 "metadata": {
  "kernelspec": {
   "display_name": "Python 3",
   "language": "python",
   "name": "python3"
  },
  "language_info": {
   "codemirror_mode": {
    "name": "ipython",
    "version": 3
   },
   "file_extension": ".py",
   "mimetype": "text/x-python",
   "name": "python",
   "nbconvert_exporter": "python",
   "pygments_lexer": "ipython3",
   "version": "3.6.1"
  }
 },
 "nbformat": 4,
 "nbformat_minor": 2
}
