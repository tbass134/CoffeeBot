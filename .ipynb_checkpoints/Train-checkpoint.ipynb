{
 "cells": [
  {
   "cell_type": "code",
   "execution_count": 230,
   "metadata": {
    "collapsed": true
   },
   "outputs": [],
   "source": [
    "%matplotlib inline\n",
    "\n",
    "import matplotlib\n",
    "import numpy as np\n",
    "import matplotlib.pyplot as plt\n",
    "import pandas as pd\n",
    "# Set random seed\n",
    "np.random.seed(42)"
   ]
  },
  {
   "cell_type": "code",
   "execution_count": 243,
   "metadata": {},
   "outputs": [
    {
     "name": "stdout",
     "output_type": "stream",
     "text": [
      "<class 'pandas.core.frame.DataFrame'>\n",
      "Index: 836 entries, CFDB9498-809D-4232-8281-9E7CA354D59B to 59A22453-FB78-44C8-BCF1-884D88C17FB1\n",
      "Data columns (total 9 columns):\n",
      "clouds         836 non-null int64\n",
      "date           836 non-null object\n",
      "humidity       836 non-null int64\n",
      "temp           836 non-null float64\n",
      "type           836 non-null int64\n",
      "visibility     836 non-null int64\n",
      "weatherCond    836 non-null object\n",
      "windSpeed      836 non-null float64\n",
      "zipcode        836 non-null object\n",
      "dtypes: float64(2), int64(4), object(3)\n",
      "memory usage: 65.3+ KB\n"
     ]
    }
   ],
   "source": [
    "data = pd.read_csv('data.csv', index_col=0)\n",
    "data = data[data['weatherCond'].notnull()]\n",
    "\n",
    "import sklearn.utils\n",
    "data = sklearn.utils.shuffle(data)\n",
    "\n",
    "labels = np.ravel(data[['type']],order='C')\n",
    "data.drop(['userId', 'lat', 'lon', 'location', 'device', 'zip', 'pressure', 'windDeg'],axis=1, inplace=True)\n",
    "data.info()\n"
   ]
  },
  {
   "cell_type": "code",
   "execution_count": 244,
   "metadata": {
    "collapsed": true
   },
   "outputs": [],
   "source": [
    "#force df to have same # of hot / iced rows\n",
    "hot = data.loc[data.type == 1]\n",
    "iced = data.loc[data.type == 0]\n",
    "\n",
    "#remove all hot\n",
    "data.drop(data[data.type == 1].index, inplace=True)\n",
    "\n",
    "num_delete = hot.shape[0] - iced.shape[0]\n",
    "indexes_to_keep = set(range(hot.shape[0])) - set(range(num_delete))\n",
    "hot_sliced = hot.take(list(indexes_to_keep))\n",
    "\n",
    "data = pd.concat([data, hot_sliced])\n",
    "data['type'].value_counts()\n",
    "labels = np.ravel(data[['type']],order='C')\n"
   ]
  },
  {
   "cell_type": "code",
   "execution_count": 245,
   "metadata": {},
   "outputs": [
    {
     "name": "stdout",
     "output_type": "stream",
     "text": [
      "iced (312, 9)\n",
      "hot (312, 9)\n"
     ]
    }
   ],
   "source": [
    "print(\"iced\", data[data['type']==0].shape)\n",
    "print(\"hot\",data[data['type']==1].shape)\n",
    "# data.drop(['type'],axis=1, inplace=True)\n",
    "\n"
   ]
  },
  {
   "cell_type": "code",
   "execution_count": 246,
   "metadata": {
    "collapsed": true
   },
   "outputs": [],
   "source": [
    "#round data\n",
    "def round(df):\n",
    "    return df.apply(lambda x: np.rint(x))\n",
    "\n",
    "data['temp'] = round(data['temp'])\n",
    "# data['windDeg'] = round(data['windDeg'])\n",
    "data['windSpeed'] = round(data['windSpeed'])"
   ]
  },
  {
   "cell_type": "code",
   "execution_count": 247,
   "metadata": {
    "collapsed": true
   },
   "outputs": [],
   "source": [
    "def to_bins(col, bins, lables):\n",
    "    data[col] = pd.cut(data[col], bins=bins, labels=lables)\n",
    "    return data[col]\n",
    "\n",
    "def to_categorical(data, cat_vars):\n",
    "    for var in cat_vars:\n",
    "        cat_list='var'+'_'+var\n",
    "        cat_list = pd.get_dummies(data[var], prefix=var)\n",
    "        data1=data.join(cat_list)\n",
    "        data=data1\n",
    "    data = data.drop(cat_vars, axis=1)\n",
    "    return data"
   ]
  },
  {
   "cell_type": "code",
   "execution_count": 248,
   "metadata": {
    "collapsed": true
   },
   "outputs": [],
   "source": [
    "\n",
    "#convert visibilty from meters to miles\n",
    "def miles(meter):\n",
    "    return round(meter/1609.344)\n",
    "\n",
    "data['visibility'] = miles(data['visibility'])\n",
    "# bins = [0, 1, 5, 20]\n",
    "# vis_lables = [0,1,2]\n",
    "\n",
    "# data['visibility'] = to_bins(\"visibility\", bins=bins, lables=vis_lables)\n",
    "# # data = to_categorical(data, cat_vars=['visibility'])\n"
   ]
  },
  {
   "cell_type": "code",
   "execution_count": 249,
   "metadata": {
    "collapsed": true
   },
   "outputs": [],
   "source": [
    "# clouds binning\n",
    "# cloud_bins = [0, 25, 50, 100]\n",
    "# cloud_labels = [0, 1, 2]\n",
    "\n",
    "# data['clouds'] = to_bins(\"clouds\", bins=cloud_bins, lables=cloud_labels)\n",
    "# data = to_categorical(data, cat_vars=['clouds'])\n",
    "\n"
   ]
  },
  {
   "cell_type": "code",
   "execution_count": 250,
   "metadata": {
    "collapsed": true
   },
   "outputs": [],
   "source": [
    "# humidity binning\n",
    "# data['humidity'].value_counts()\n",
    "# humidity_bins = [0, 25, 50, 100]\n",
    "# humidity_labels = [0, 1, 2]\n",
    "\n",
    "# data['humidity'] = to_bins(\"humidity\", bins=humidity_bins, lables=humidity_labels)\n",
    "# data = to_categorical(data, cat_vars=['humidity'])\n",
    "\n"
   ]
  },
  {
   "cell_type": "code",
   "execution_count": 251,
   "metadata": {},
   "outputs": [],
   "source": [
    "#feature engineering with date\n",
    "\n",
    "#make cols based on:\n",
    "#day_of_week\n",
    "#is_weekday\n",
    "#is_weekend\n",
    "#morning\n",
    "#afternoon\n",
    "#evening\n",
    "\n",
    "from datetime import datetime\n",
    "from dateutil import parser\n",
    "\n",
    "day_of_week = lambda x: parser.parse(x).weekday()\n",
    "is_weekend = lambda x: parser.parse(x).weekday() > 5\n",
    "month = lambda x: parser.parse(x).month\n",
    "\n",
    "\n",
    "data['day_of_week'] =  data['date'].map(day_of_week)\n",
    "data['is_weekend'] =  data['date'].map(is_weekend)\n",
    "data = to_categorical(data, cat_vars=['is_weekend'])\n",
    "\n",
    "\n",
    "data['month'] =  data['date'].map(month)\n",
    "\n",
    "\n",
    "def season_of_date(date_str):\n",
    "    month =  parser.parse(date_str).month\n",
    "    return (\n",
    "        \"spring\" if month >=2 and month <=5\n",
    "        else\n",
    "        \"summer\" if month >=6 and month <=8\n",
    "        else\n",
    "        \"fall\" if month >=9 and month <=11\n",
    "        else\n",
    "        \"winter\"\n",
    "    )\n",
    "\n",
    "# Assuming df has a date column of type `datetime`\n",
    "data['season'] = data['date'].map(season_of_date)\n",
    "data = to_categorical(data, cat_vars=['season'])\n",
    "\n",
    "\n",
    "def get_part_of_day(hour):\n",
    "    return (\n",
    "        \"morning\" if 5 <= hour <= 11\n",
    "        else\n",
    "        \"afternoon\" if 12 <= hour <= 17\n",
    "        else\n",
    "        \"evening\" if 18 <= hour <= 22\n",
    "        else\n",
    "        \"night\"\n",
    "    )\n",
    "\n",
    "part_of_day = lambda x: get_part_of_day(parser.parse(x).hour)\n",
    "data['part_of_day'] =  data['date'].map(part_of_day)\n",
    "data = to_categorical(data, cat_vars=['part_of_day'])"
   ]
  },
  {
   "cell_type": "code",
   "execution_count": 252,
   "metadata": {},
   "outputs": [
    {
     "data": {
      "text/html": [
       "<div>\n",
       "<style scoped>\n",
       "    .dataframe tbody tr th:only-of-type {\n",
       "        vertical-align: middle;\n",
       "    }\n",
       "\n",
       "    .dataframe tbody tr th {\n",
       "        vertical-align: top;\n",
       "    }\n",
       "\n",
       "    .dataframe thead th {\n",
       "        text-align: right;\n",
       "    }\n",
       "</style>\n",
       "<table border=\"1\" class=\"dataframe\">\n",
       "  <thead>\n",
       "    <tr style=\"text-align: right;\">\n",
       "      <th></th>\n",
       "      <th>clouds</th>\n",
       "      <th>date</th>\n",
       "      <th>humidity</th>\n",
       "      <th>temp</th>\n",
       "      <th>type</th>\n",
       "      <th>visibility</th>\n",
       "      <th>weatherCond</th>\n",
       "      <th>windSpeed</th>\n",
       "      <th>zipcode</th>\n",
       "      <th>day_of_week</th>\n",
       "      <th>...</th>\n",
       "      <th>is_weekend_True</th>\n",
       "      <th>month</th>\n",
       "      <th>season_fall</th>\n",
       "      <th>season_spring</th>\n",
       "      <th>season_summer</th>\n",
       "      <th>season_winter</th>\n",
       "      <th>part_of_day_afternoon</th>\n",
       "      <th>part_of_day_evening</th>\n",
       "      <th>part_of_day_morning</th>\n",
       "      <th>part_of_day_night</th>\n",
       "    </tr>\n",
       "  </thead>\n",
       "  <tbody>\n",
       "    <tr>\n",
       "      <th>CFDB9498-809D-4232-8281-9E7CA354D59B</th>\n",
       "      <td>40</td>\n",
       "      <td>2018-12-01T17:27:45.102Z</td>\n",
       "      <td>55</td>\n",
       "      <td>42.0</td>\n",
       "      <td>0</td>\n",
       "      <td>10.0</td>\n",
       "      <td>Clouds</td>\n",
       "      <td>4.0</td>\n",
       "      <td>10923</td>\n",
       "      <td>5</td>\n",
       "      <td>...</td>\n",
       "      <td>0</td>\n",
       "      <td>12</td>\n",
       "      <td>0</td>\n",
       "      <td>0</td>\n",
       "      <td>0</td>\n",
       "      <td>1</td>\n",
       "      <td>1</td>\n",
       "      <td>0</td>\n",
       "      <td>0</td>\n",
       "      <td>0</td>\n",
       "    </tr>\n",
       "    <tr>\n",
       "      <th>2A429A89-2491-4082-9622-D06E370D091A</th>\n",
       "      <td>20</td>\n",
       "      <td>2018-06-26T21:35:35.489Z</td>\n",
       "      <td>46</td>\n",
       "      <td>75.0</td>\n",
       "      <td>0</td>\n",
       "      <td>10.0</td>\n",
       "      <td>Clouds</td>\n",
       "      <td>11.0</td>\n",
       "      <td>10923</td>\n",
       "      <td>1</td>\n",
       "      <td>...</td>\n",
       "      <td>0</td>\n",
       "      <td>6</td>\n",
       "      <td>0</td>\n",
       "      <td>0</td>\n",
       "      <td>1</td>\n",
       "      <td>0</td>\n",
       "      <td>0</td>\n",
       "      <td>1</td>\n",
       "      <td>0</td>\n",
       "      <td>0</td>\n",
       "    </tr>\n",
       "    <tr>\n",
       "      <th>4F20435C-DF07-4D4E-BF43-BE54C4A967F6</th>\n",
       "      <td>40</td>\n",
       "      <td>2018-07-29T23:47:46.745Z</td>\n",
       "      <td>42</td>\n",
       "      <td>79.0</td>\n",
       "      <td>0</td>\n",
       "      <td>10.0</td>\n",
       "      <td>Clouds</td>\n",
       "      <td>2.0</td>\n",
       "      <td>10901</td>\n",
       "      <td>6</td>\n",
       "      <td>...</td>\n",
       "      <td>1</td>\n",
       "      <td>7</td>\n",
       "      <td>0</td>\n",
       "      <td>0</td>\n",
       "      <td>1</td>\n",
       "      <td>0</td>\n",
       "      <td>0</td>\n",
       "      <td>0</td>\n",
       "      <td>0</td>\n",
       "      <td>1</td>\n",
       "    </tr>\n",
       "    <tr>\n",
       "      <th>4A1A66D3-53DE-491F-B1FC-7E12CE4FC35E</th>\n",
       "      <td>40</td>\n",
       "      <td>2018-07-14T20:26:08.310Z</td>\n",
       "      <td>40</td>\n",
       "      <td>88.0</td>\n",
       "      <td>0</td>\n",
       "      <td>10.0</td>\n",
       "      <td>Clouds</td>\n",
       "      <td>4.0</td>\n",
       "      <td>10954</td>\n",
       "      <td>5</td>\n",
       "      <td>...</td>\n",
       "      <td>0</td>\n",
       "      <td>7</td>\n",
       "      <td>0</td>\n",
       "      <td>0</td>\n",
       "      <td>1</td>\n",
       "      <td>0</td>\n",
       "      <td>0</td>\n",
       "      <td>1</td>\n",
       "      <td>0</td>\n",
       "      <td>0</td>\n",
       "    </tr>\n",
       "    <tr>\n",
       "      <th>B9F9226B-3048-4954-830C-52D0524B7415</th>\n",
       "      <td>1</td>\n",
       "      <td>2018-07-02T10:49:06.384Z</td>\n",
       "      <td>94</td>\n",
       "      <td>72.0</td>\n",
       "      <td>0</td>\n",
       "      <td>3.0</td>\n",
       "      <td>Mist</td>\n",
       "      <td>2.0</td>\n",
       "      <td>10977</td>\n",
       "      <td>0</td>\n",
       "      <td>...</td>\n",
       "      <td>0</td>\n",
       "      <td>7</td>\n",
       "      <td>0</td>\n",
       "      <td>0</td>\n",
       "      <td>1</td>\n",
       "      <td>0</td>\n",
       "      <td>0</td>\n",
       "      <td>0</td>\n",
       "      <td>1</td>\n",
       "      <td>0</td>\n",
       "    </tr>\n",
       "  </tbody>\n",
       "</table>\n",
       "<p>5 rows × 21 columns</p>\n",
       "</div>"
      ],
      "text/plain": [
       "                                      clouds                      date  \\\n",
       "CFDB9498-809D-4232-8281-9E7CA354D59B      40  2018-12-01T17:27:45.102Z   \n",
       "2A429A89-2491-4082-9622-D06E370D091A      20  2018-06-26T21:35:35.489Z   \n",
       "4F20435C-DF07-4D4E-BF43-BE54C4A967F6      40  2018-07-29T23:47:46.745Z   \n",
       "4A1A66D3-53DE-491F-B1FC-7E12CE4FC35E      40  2018-07-14T20:26:08.310Z   \n",
       "B9F9226B-3048-4954-830C-52D0524B7415       1  2018-07-02T10:49:06.384Z   \n",
       "\n",
       "                                      humidity  temp  type  visibility  \\\n",
       "CFDB9498-809D-4232-8281-9E7CA354D59B        55  42.0     0        10.0   \n",
       "2A429A89-2491-4082-9622-D06E370D091A        46  75.0     0        10.0   \n",
       "4F20435C-DF07-4D4E-BF43-BE54C4A967F6        42  79.0     0        10.0   \n",
       "4A1A66D3-53DE-491F-B1FC-7E12CE4FC35E        40  88.0     0        10.0   \n",
       "B9F9226B-3048-4954-830C-52D0524B7415        94  72.0     0         3.0   \n",
       "\n",
       "                                     weatherCond  windSpeed zipcode  \\\n",
       "CFDB9498-809D-4232-8281-9E7CA354D59B      Clouds        4.0   10923   \n",
       "2A429A89-2491-4082-9622-D06E370D091A      Clouds       11.0   10923   \n",
       "4F20435C-DF07-4D4E-BF43-BE54C4A967F6      Clouds        2.0   10901   \n",
       "4A1A66D3-53DE-491F-B1FC-7E12CE4FC35E      Clouds        4.0   10954   \n",
       "B9F9226B-3048-4954-830C-52D0524B7415        Mist        2.0   10977   \n",
       "\n",
       "                                      day_of_week        ...          \\\n",
       "CFDB9498-809D-4232-8281-9E7CA354D59B            5        ...           \n",
       "2A429A89-2491-4082-9622-D06E370D091A            1        ...           \n",
       "4F20435C-DF07-4D4E-BF43-BE54C4A967F6            6        ...           \n",
       "4A1A66D3-53DE-491F-B1FC-7E12CE4FC35E            5        ...           \n",
       "B9F9226B-3048-4954-830C-52D0524B7415            0        ...           \n",
       "\n",
       "                                      is_weekend_True  month  season_fall  \\\n",
       "CFDB9498-809D-4232-8281-9E7CA354D59B                0     12            0   \n",
       "2A429A89-2491-4082-9622-D06E370D091A                0      6            0   \n",
       "4F20435C-DF07-4D4E-BF43-BE54C4A967F6                1      7            0   \n",
       "4A1A66D3-53DE-491F-B1FC-7E12CE4FC35E                0      7            0   \n",
       "B9F9226B-3048-4954-830C-52D0524B7415                0      7            0   \n",
       "\n",
       "                                      season_spring  season_summer  \\\n",
       "CFDB9498-809D-4232-8281-9E7CA354D59B              0              0   \n",
       "2A429A89-2491-4082-9622-D06E370D091A              0              1   \n",
       "4F20435C-DF07-4D4E-BF43-BE54C4A967F6              0              1   \n",
       "4A1A66D3-53DE-491F-B1FC-7E12CE4FC35E              0              1   \n",
       "B9F9226B-3048-4954-830C-52D0524B7415              0              1   \n",
       "\n",
       "                                      season_winter  part_of_day_afternoon  \\\n",
       "CFDB9498-809D-4232-8281-9E7CA354D59B              1                      1   \n",
       "2A429A89-2491-4082-9622-D06E370D091A              0                      0   \n",
       "4F20435C-DF07-4D4E-BF43-BE54C4A967F6              0                      0   \n",
       "4A1A66D3-53DE-491F-B1FC-7E12CE4FC35E              0                      0   \n",
       "B9F9226B-3048-4954-830C-52D0524B7415              0                      0   \n",
       "\n",
       "                                      part_of_day_evening  \\\n",
       "CFDB9498-809D-4232-8281-9E7CA354D59B                    0   \n",
       "2A429A89-2491-4082-9622-D06E370D091A                    1   \n",
       "4F20435C-DF07-4D4E-BF43-BE54C4A967F6                    0   \n",
       "4A1A66D3-53DE-491F-B1FC-7E12CE4FC35E                    1   \n",
       "B9F9226B-3048-4954-830C-52D0524B7415                    0   \n",
       "\n",
       "                                      part_of_day_morning  part_of_day_night  \n",
       "CFDB9498-809D-4232-8281-9E7CA354D59B                    0                  0  \n",
       "2A429A89-2491-4082-9622-D06E370D091A                    0                  0  \n",
       "4F20435C-DF07-4D4E-BF43-BE54C4A967F6                    0                  1  \n",
       "4A1A66D3-53DE-491F-B1FC-7E12CE4FC35E                    0                  0  \n",
       "B9F9226B-3048-4954-830C-52D0524B7415                    1                  0  \n",
       "\n",
       "[5 rows x 21 columns]"
      ]
     },
     "execution_count": 252,
     "metadata": {},
     "output_type": "execute_result"
    }
   ],
   "source": [
    "data.head()"
   ]
  },
  {
   "cell_type": "code",
   "execution_count": 253,
   "metadata": {},
   "outputs": [
    {
     "data": {
      "text/plain": [
       "Clouds          241\n",
       "Clear           169\n",
       "Rain            161\n",
       "Fog              24\n",
       "Haze             14\n",
       "Snow              9\n",
       "Thunderstorm      4\n",
       "Smoke             2\n",
       "Name: weatherCond, dtype: int64"
      ]
     },
     "execution_count": 253,
     "metadata": {},
     "output_type": "execute_result"
    }
   ],
   "source": [
    "data['weatherCond']\n",
    "for index,rows in data.iterrows():\n",
    "    if (\"cloud\" in data.loc[index, 'weatherCond'].lower() or \"overcast\" in data.loc[index, 'weatherCond'].lower()):\n",
    "        data.loc[index, 'weatherCond'] = 'Clouds'\n",
    "        \n",
    "    if (\"snow\" in data.loc[index, 'weatherCond'].lower()):\n",
    "        data.loc[index, 'weatherCond'] = 'Snow'\n",
    "        \n",
    "    if (\"rain\" in data.loc[index, 'weatherCond'].lower() or \"drizzle\" in data.loc[index, 'weatherCond'].lower() or \"mist\" in data.loc[index, 'weatherCond'].lower()):\n",
    "        data.loc[index, 'weatherCond'] = 'Rain'\n",
    "        \n",
    "    if (\"none\" in data.loc[index, 'weatherCond'].lower()):\n",
    "        data.loc[index, 'weatherCond'] = 'Clear'\n",
    "    \n",
    "\n",
    "data['weatherCond'].value_counts()"
   ]
  },
  {
   "cell_type": "code",
   "execution_count": 254,
   "metadata": {},
   "outputs": [
    {
     "data": {
      "text/html": [
       "<div>\n",
       "<style scoped>\n",
       "    .dataframe tbody tr th:only-of-type {\n",
       "        vertical-align: middle;\n",
       "    }\n",
       "\n",
       "    .dataframe tbody tr th {\n",
       "        vertical-align: top;\n",
       "    }\n",
       "\n",
       "    .dataframe thead th {\n",
       "        text-align: right;\n",
       "    }\n",
       "</style>\n",
       "<table border=\"1\" class=\"dataframe\">\n",
       "  <thead>\n",
       "    <tr style=\"text-align: right;\">\n",
       "      <th></th>\n",
       "      <th>clouds</th>\n",
       "      <th>date</th>\n",
       "      <th>humidity</th>\n",
       "      <th>temp</th>\n",
       "      <th>type</th>\n",
       "      <th>visibility</th>\n",
       "      <th>windSpeed</th>\n",
       "      <th>zipcode</th>\n",
       "      <th>day_of_week</th>\n",
       "      <th>is_weekend_False</th>\n",
       "      <th>...</th>\n",
       "      <th>part_of_day_morning</th>\n",
       "      <th>part_of_day_night</th>\n",
       "      <th>weatherCond_Clear</th>\n",
       "      <th>weatherCond_Clouds</th>\n",
       "      <th>weatherCond_Fog</th>\n",
       "      <th>weatherCond_Haze</th>\n",
       "      <th>weatherCond_Rain</th>\n",
       "      <th>weatherCond_Smoke</th>\n",
       "      <th>weatherCond_Snow</th>\n",
       "      <th>weatherCond_Thunderstorm</th>\n",
       "    </tr>\n",
       "  </thead>\n",
       "  <tbody>\n",
       "    <tr>\n",
       "      <th>CFDB9498-809D-4232-8281-9E7CA354D59B</th>\n",
       "      <td>40</td>\n",
       "      <td>2018-12-01T17:27:45.102Z</td>\n",
       "      <td>55</td>\n",
       "      <td>42.0</td>\n",
       "      <td>0</td>\n",
       "      <td>10.0</td>\n",
       "      <td>4.0</td>\n",
       "      <td>10923</td>\n",
       "      <td>5</td>\n",
       "      <td>1</td>\n",
       "      <td>...</td>\n",
       "      <td>0</td>\n",
       "      <td>0</td>\n",
       "      <td>0</td>\n",
       "      <td>1</td>\n",
       "      <td>0</td>\n",
       "      <td>0</td>\n",
       "      <td>0</td>\n",
       "      <td>0</td>\n",
       "      <td>0</td>\n",
       "      <td>0</td>\n",
       "    </tr>\n",
       "    <tr>\n",
       "      <th>2A429A89-2491-4082-9622-D06E370D091A</th>\n",
       "      <td>20</td>\n",
       "      <td>2018-06-26T21:35:35.489Z</td>\n",
       "      <td>46</td>\n",
       "      <td>75.0</td>\n",
       "      <td>0</td>\n",
       "      <td>10.0</td>\n",
       "      <td>11.0</td>\n",
       "      <td>10923</td>\n",
       "      <td>1</td>\n",
       "      <td>1</td>\n",
       "      <td>...</td>\n",
       "      <td>0</td>\n",
       "      <td>0</td>\n",
       "      <td>0</td>\n",
       "      <td>1</td>\n",
       "      <td>0</td>\n",
       "      <td>0</td>\n",
       "      <td>0</td>\n",
       "      <td>0</td>\n",
       "      <td>0</td>\n",
       "      <td>0</td>\n",
       "    </tr>\n",
       "    <tr>\n",
       "      <th>4F20435C-DF07-4D4E-BF43-BE54C4A967F6</th>\n",
       "      <td>40</td>\n",
       "      <td>2018-07-29T23:47:46.745Z</td>\n",
       "      <td>42</td>\n",
       "      <td>79.0</td>\n",
       "      <td>0</td>\n",
       "      <td>10.0</td>\n",
       "      <td>2.0</td>\n",
       "      <td>10901</td>\n",
       "      <td>6</td>\n",
       "      <td>0</td>\n",
       "      <td>...</td>\n",
       "      <td>0</td>\n",
       "      <td>1</td>\n",
       "      <td>0</td>\n",
       "      <td>1</td>\n",
       "      <td>0</td>\n",
       "      <td>0</td>\n",
       "      <td>0</td>\n",
       "      <td>0</td>\n",
       "      <td>0</td>\n",
       "      <td>0</td>\n",
       "    </tr>\n",
       "    <tr>\n",
       "      <th>4A1A66D3-53DE-491F-B1FC-7E12CE4FC35E</th>\n",
       "      <td>40</td>\n",
       "      <td>2018-07-14T20:26:08.310Z</td>\n",
       "      <td>40</td>\n",
       "      <td>88.0</td>\n",
       "      <td>0</td>\n",
       "      <td>10.0</td>\n",
       "      <td>4.0</td>\n",
       "      <td>10954</td>\n",
       "      <td>5</td>\n",
       "      <td>1</td>\n",
       "      <td>...</td>\n",
       "      <td>0</td>\n",
       "      <td>0</td>\n",
       "      <td>0</td>\n",
       "      <td>1</td>\n",
       "      <td>0</td>\n",
       "      <td>0</td>\n",
       "      <td>0</td>\n",
       "      <td>0</td>\n",
       "      <td>0</td>\n",
       "      <td>0</td>\n",
       "    </tr>\n",
       "    <tr>\n",
       "      <th>B9F9226B-3048-4954-830C-52D0524B7415</th>\n",
       "      <td>1</td>\n",
       "      <td>2018-07-02T10:49:06.384Z</td>\n",
       "      <td>94</td>\n",
       "      <td>72.0</td>\n",
       "      <td>0</td>\n",
       "      <td>3.0</td>\n",
       "      <td>2.0</td>\n",
       "      <td>10977</td>\n",
       "      <td>0</td>\n",
       "      <td>1</td>\n",
       "      <td>...</td>\n",
       "      <td>1</td>\n",
       "      <td>0</td>\n",
       "      <td>0</td>\n",
       "      <td>0</td>\n",
       "      <td>0</td>\n",
       "      <td>0</td>\n",
       "      <td>1</td>\n",
       "      <td>0</td>\n",
       "      <td>0</td>\n",
       "      <td>0</td>\n",
       "    </tr>\n",
       "  </tbody>\n",
       "</table>\n",
       "<p>5 rows × 28 columns</p>\n",
       "</div>"
      ],
      "text/plain": [
       "                                      clouds                      date  \\\n",
       "CFDB9498-809D-4232-8281-9E7CA354D59B      40  2018-12-01T17:27:45.102Z   \n",
       "2A429A89-2491-4082-9622-D06E370D091A      20  2018-06-26T21:35:35.489Z   \n",
       "4F20435C-DF07-4D4E-BF43-BE54C4A967F6      40  2018-07-29T23:47:46.745Z   \n",
       "4A1A66D3-53DE-491F-B1FC-7E12CE4FC35E      40  2018-07-14T20:26:08.310Z   \n",
       "B9F9226B-3048-4954-830C-52D0524B7415       1  2018-07-02T10:49:06.384Z   \n",
       "\n",
       "                                      humidity  temp  type  visibility  \\\n",
       "CFDB9498-809D-4232-8281-9E7CA354D59B        55  42.0     0        10.0   \n",
       "2A429A89-2491-4082-9622-D06E370D091A        46  75.0     0        10.0   \n",
       "4F20435C-DF07-4D4E-BF43-BE54C4A967F6        42  79.0     0        10.0   \n",
       "4A1A66D3-53DE-491F-B1FC-7E12CE4FC35E        40  88.0     0        10.0   \n",
       "B9F9226B-3048-4954-830C-52D0524B7415        94  72.0     0         3.0   \n",
       "\n",
       "                                      windSpeed zipcode  day_of_week  \\\n",
       "CFDB9498-809D-4232-8281-9E7CA354D59B        4.0   10923            5   \n",
       "2A429A89-2491-4082-9622-D06E370D091A       11.0   10923            1   \n",
       "4F20435C-DF07-4D4E-BF43-BE54C4A967F6        2.0   10901            6   \n",
       "4A1A66D3-53DE-491F-B1FC-7E12CE4FC35E        4.0   10954            5   \n",
       "B9F9226B-3048-4954-830C-52D0524B7415        2.0   10977            0   \n",
       "\n",
       "                                      is_weekend_False  \\\n",
       "CFDB9498-809D-4232-8281-9E7CA354D59B                 1   \n",
       "2A429A89-2491-4082-9622-D06E370D091A                 1   \n",
       "4F20435C-DF07-4D4E-BF43-BE54C4A967F6                 0   \n",
       "4A1A66D3-53DE-491F-B1FC-7E12CE4FC35E                 1   \n",
       "B9F9226B-3048-4954-830C-52D0524B7415                 1   \n",
       "\n",
       "                                                ...             \\\n",
       "CFDB9498-809D-4232-8281-9E7CA354D59B            ...              \n",
       "2A429A89-2491-4082-9622-D06E370D091A            ...              \n",
       "4F20435C-DF07-4D4E-BF43-BE54C4A967F6            ...              \n",
       "4A1A66D3-53DE-491F-B1FC-7E12CE4FC35E            ...              \n",
       "B9F9226B-3048-4954-830C-52D0524B7415            ...              \n",
       "\n",
       "                                      part_of_day_morning  part_of_day_night  \\\n",
       "CFDB9498-809D-4232-8281-9E7CA354D59B                    0                  0   \n",
       "2A429A89-2491-4082-9622-D06E370D091A                    0                  0   \n",
       "4F20435C-DF07-4D4E-BF43-BE54C4A967F6                    0                  1   \n",
       "4A1A66D3-53DE-491F-B1FC-7E12CE4FC35E                    0                  0   \n",
       "B9F9226B-3048-4954-830C-52D0524B7415                    1                  0   \n",
       "\n",
       "                                      weatherCond_Clear  weatherCond_Clouds  \\\n",
       "CFDB9498-809D-4232-8281-9E7CA354D59B                  0                   1   \n",
       "2A429A89-2491-4082-9622-D06E370D091A                  0                   1   \n",
       "4F20435C-DF07-4D4E-BF43-BE54C4A967F6                  0                   1   \n",
       "4A1A66D3-53DE-491F-B1FC-7E12CE4FC35E                  0                   1   \n",
       "B9F9226B-3048-4954-830C-52D0524B7415                  0                   0   \n",
       "\n",
       "                                      weatherCond_Fog  weatherCond_Haze  \\\n",
       "CFDB9498-809D-4232-8281-9E7CA354D59B                0                 0   \n",
       "2A429A89-2491-4082-9622-D06E370D091A                0                 0   \n",
       "4F20435C-DF07-4D4E-BF43-BE54C4A967F6                0                 0   \n",
       "4A1A66D3-53DE-491F-B1FC-7E12CE4FC35E                0                 0   \n",
       "B9F9226B-3048-4954-830C-52D0524B7415                0                 0   \n",
       "\n",
       "                                      weatherCond_Rain  weatherCond_Smoke  \\\n",
       "CFDB9498-809D-4232-8281-9E7CA354D59B                 0                  0   \n",
       "2A429A89-2491-4082-9622-D06E370D091A                 0                  0   \n",
       "4F20435C-DF07-4D4E-BF43-BE54C4A967F6                 0                  0   \n",
       "4A1A66D3-53DE-491F-B1FC-7E12CE4FC35E                 0                  0   \n",
       "B9F9226B-3048-4954-830C-52D0524B7415                 1                  0   \n",
       "\n",
       "                                      weatherCond_Snow  \\\n",
       "CFDB9498-809D-4232-8281-9E7CA354D59B                 0   \n",
       "2A429A89-2491-4082-9622-D06E370D091A                 0   \n",
       "4F20435C-DF07-4D4E-BF43-BE54C4A967F6                 0   \n",
       "4A1A66D3-53DE-491F-B1FC-7E12CE4FC35E                 0   \n",
       "B9F9226B-3048-4954-830C-52D0524B7415                 0   \n",
       "\n",
       "                                      weatherCond_Thunderstorm  \n",
       "CFDB9498-809D-4232-8281-9E7CA354D59B                         0  \n",
       "2A429A89-2491-4082-9622-D06E370D091A                         0  \n",
       "4F20435C-DF07-4D4E-BF43-BE54C4A967F6                         0  \n",
       "4A1A66D3-53DE-491F-B1FC-7E12CE4FC35E                         0  \n",
       "B9F9226B-3048-4954-830C-52D0524B7415                         0  \n",
       "\n",
       "[5 rows x 28 columns]"
      ]
     },
     "execution_count": 254,
     "metadata": {},
     "output_type": "execute_result"
    }
   ],
   "source": [
    "# one- hot encoding\n",
    "cat_vars=['weatherCond']\n",
    "for var in cat_vars:\n",
    "    cat_list='var'+'_'+var\n",
    "    cat_list = pd.get_dummies(data[var], prefix=var)\n",
    "    data1=data.join(cat_list)\n",
    "    data=data1\n",
    "data = data.drop(['weatherCond'], axis=1)\n",
    "data.head()"
   ]
  },
  {
   "cell_type": "code",
   "execution_count": 255,
   "metadata": {
    "scrolled": false
   },
   "outputs": [
    {
     "name": "stdout",
     "output_type": "stream",
     "text": [
      "<class 'pandas.core.frame.DataFrame'>\n",
      "Index: 624 entries, CFDB9498-809D-4232-8281-9E7CA354D59B to 37ED8D81-924D-4EDE-8A5F-CB3875747474\n",
      "Data columns (total 28 columns):\n",
      "clouds                      624 non-null int64\n",
      "date                        624 non-null object\n",
      "humidity                    624 non-null int64\n",
      "temp                        624 non-null float64\n",
      "type                        624 non-null int64\n",
      "visibility                  624 non-null float64\n",
      "windSpeed                   624 non-null float64\n",
      "zipcode                     624 non-null object\n",
      "day_of_week                 624 non-null int64\n",
      "is_weekend_False            624 non-null uint8\n",
      "is_weekend_True             624 non-null uint8\n",
      "month                       624 non-null int64\n",
      "season_fall                 624 non-null uint8\n",
      "season_spring               624 non-null uint8\n",
      "season_summer               624 non-null uint8\n",
      "season_winter               624 non-null uint8\n",
      "part_of_day_afternoon       624 non-null uint8\n",
      "part_of_day_evening         624 non-null uint8\n",
      "part_of_day_morning         624 non-null uint8\n",
      "part_of_day_night           624 non-null uint8\n",
      "weatherCond_Clear           624 non-null uint8\n",
      "weatherCond_Clouds          624 non-null uint8\n",
      "weatherCond_Fog             624 non-null uint8\n",
      "weatherCond_Haze            624 non-null uint8\n",
      "weatherCond_Rain            624 non-null uint8\n",
      "weatherCond_Smoke           624 non-null uint8\n",
      "weatherCond_Snow            624 non-null uint8\n",
      "weatherCond_Thunderstorm    624 non-null uint8\n",
      "dtypes: float64(3), int64(5), object(2), uint8(18)\n",
      "memory usage: 84.6+ KB\n"
     ]
    }
   ],
   "source": [
    "data.info()"
   ]
  },
  {
   "cell_type": "code",
   "execution_count": 256,
   "metadata": {},
   "outputs": [
    {
     "data": {
      "text/plain": [
       "<matplotlib.axes._subplots.AxesSubplot at 0x123c72c18>"
      ]
     },
     "execution_count": 256,
     "metadata": {},
     "output_type": "execute_result"
    },
    {
     "data": {
      "image/png": "[encoded data removed]",
      "text/plain": [
       "<matplotlib.figure.Figure at 0x124ab9668>"
      ]
     },
     "metadata": {},
     "output_type": "display_data"
    }
   ],
   "source": [
    "import seaborn as sns\n",
    "corr = data.corr()\n",
    "sns.heatmap(corr, \n",
    "            xticklabels=corr.columns.values,\n",
    "            yticklabels=corr.columns.values)"
   ]
  },
  {
   "cell_type": "code",
   "execution_count": 257,
   "metadata": {
    "collapsed": true
   },
   "outputs": [],
   "source": [
    "#save the modified csv\n",
    "data.to_csv('coffeeBotData-Cleaned.csv')"
   ]
  },
  {
   "cell_type": "code",
   "execution_count": 258,
   "metadata": {},
   "outputs": [],
   "source": [
    "data.drop(['type', 'date','zipcode'],axis=1, inplace=True)"
   ]
  },
  {
   "cell_type": "code",
   "execution_count": 259,
   "metadata": {},
   "outputs": [
    {
     "name": "stdout",
     "output_type": "stream",
     "text": [
      "final features\n",
      "<class 'pandas.core.frame.DataFrame'>\n",
      "Index: 624 entries, CFDB9498-809D-4232-8281-9E7CA354D59B to 37ED8D81-924D-4EDE-8A5F-CB3875747474\n",
      "Data columns (total 25 columns):\n",
      "clouds                      624 non-null int64\n",
      "humidity                    624 non-null int64\n",
      "temp                        624 non-null float64\n",
      "visibility                  624 non-null float64\n",
      "windSpeed                   624 non-null float64\n",
      "day_of_week                 624 non-null int64\n",
      "is_weekend_False            624 non-null uint8\n",
      "is_weekend_True             624 non-null uint8\n",
      "month                       624 non-null int64\n",
      "season_fall                 624 non-null uint8\n",
      "season_spring               624 non-null uint8\n",
      "season_summer               624 non-null uint8\n",
      "season_winter               624 non-null uint8\n",
      "part_of_day_afternoon       624 non-null uint8\n",
      "part_of_day_evening         624 non-null uint8\n",
      "part_of_day_morning         624 non-null uint8\n",
      "part_of_day_night           624 non-null uint8\n",
      "weatherCond_Clear           624 non-null uint8\n",
      "weatherCond_Clouds          624 non-null uint8\n",
      "weatherCond_Fog             624 non-null uint8\n",
      "weatherCond_Haze            624 non-null uint8\n",
      "weatherCond_Rain            624 non-null uint8\n",
      "weatherCond_Smoke           624 non-null uint8\n",
      "weatherCond_Snow            624 non-null uint8\n",
      "weatherCond_Thunderstorm    624 non-null uint8\n",
      "dtypes: float64(3), int64(4), uint8(18)\n",
      "memory usage: 70.0+ KB\n",
      "None\n"
     ]
    }
   ],
   "source": [
    "print(\"final features\")\n",
    "print(data.info())"
   ]
  },
  {
   "cell_type": "code",
   "execution_count": 260,
   "metadata": {},
   "outputs": [
    {
     "name": "stdout",
     "output_type": "stream",
     "text": [
      "data (624, 25)\n",
      "labels (624,)\n"
     ]
    }
   ],
   "source": [
    "print(\"data\",data.shape)\n",
    "print(\"labels\", labels.shape)"
   ]
  },
  {
   "cell_type": "code",
   "execution_count": 261,
   "metadata": {
    "scrolled": true
   },
   "outputs": [
    {
     "name": "stdout",
     "output_type": "stream",
     "text": [
      "[False False False False False False False False False  True False False\n",
      "  True False False False False False False  True False False False  True\n",
      " False]\n",
      "[21 20 15 19 17 22  7  8 14  1  5 18  1 13  6 12  4  9 11  1  3 10 16  1\n",
      "  2]\n"
     ]
    }
   ],
   "source": [
    "from sklearn.feature_selection import RFE\n",
    "from sklearn.linear_model import LogisticRegression\n",
    "model = LogisticRegression()\n",
    "rfe = RFE(model, 4)\n",
    "rfe = rfe.fit(data, labels)\n",
    "print(rfe.support_)\n",
    "print(rfe.ranking_)"
   ]
  },
  {
   "cell_type": "code",
   "execution_count": 262,
   "metadata": {},
   "outputs": [],
   "source": [
    "X = data#data[['lat','lon', 'temp', 'windSpeed']]\n",
    "y = labels\n",
    "from sklearn.model_selection import train_test_split\n",
    "X_train, X_test, y_train, y_test = train_test_split(X, y, test_size=0.3, random_state=42)\n"
   ]
  },
  {
   "cell_type": "code",
   "execution_count": 263,
   "metadata": {},
   "outputs": [
    {
     "name": "stdout",
     "output_type": "stream",
     "text": [
      "Logistic regression accuracy: 0.814\n"
     ]
    }
   ],
   "source": [
    "from sklearn.linear_model import LogisticRegression\n",
    "from sklearn import metrics\n",
    "logreg = LogisticRegression()\n",
    "logreg.fit(X_train, y_train)\n",
    "\n",
    "from sklearn.metrics import accuracy_score\n",
    "print('Logistic regression accuracy: {:.3f}'.format(accuracy_score(y_test, logreg.predict(X_test))))"
   ]
  },
  {
   "cell_type": "code",
   "execution_count": 264,
   "metadata": {},
   "outputs": [
    {
     "data": {
      "text/plain": [
       "LinearRegression(copy_X=True, fit_intercept=True, n_jobs=1, normalize=False)"
      ]
     },
     "execution_count": 264,
     "metadata": {},
     "output_type": "execute_result"
    }
   ],
   "source": [
    "from sklearn.linear_model import LinearRegression\n",
    "reg = LinearRegression()\n",
    "reg.fit(X_train,y_train)"
   ]
  },
  {
   "cell_type": "code",
   "execution_count": 265,
   "metadata": {},
   "outputs": [
    {
     "name": "stdout",
     "output_type": "stream",
     "text": [
      "Logistic regression accuracy: 0.814\n"
     ]
    }
   ],
   "source": [
    "from sklearn.metrics import accuracy_score\n",
    "print('Logistic regression accuracy: {:.3f}'.format(accuracy_score(y_test, logreg.predict(X_test))))"
   ]
  },
  {
   "cell_type": "code",
   "execution_count": 266,
   "metadata": {},
   "outputs": [
    {
     "name": "stdout",
     "output_type": "stream",
     "text": [
      "Random Forest Accuracy: 0.809\n"
     ]
    }
   ],
   "source": [
    "#random forest\n",
    "from sklearn.ensemble import RandomForestClassifier\n",
    "rf = RandomForestClassifier()\n",
    "rf.fit(X_train, y_train)\n",
    "print('Random Forest Accuracy: {:.3f}'.format(accuracy_score(y_test, rf.predict(X_test))))"
   ]
  },
  {
   "cell_type": "code",
   "execution_count": 267,
   "metadata": {},
   "outputs": [
    {
     "name": "stdout",
     "output_type": "stream",
     "text": [
      "Support vector machine accuracy: 0.670\n"
     ]
    }
   ],
   "source": [
    "#SVM\n",
    "from sklearn.svm import SVC\n",
    "svc = SVC()\n",
    "svc.fit(X_train, y_train)\n",
    "print('Support vector machine accuracy: {:.3f}'.format(accuracy_score(y_test, svc.predict(X_test))))              "
   ]
  },
  {
   "cell_type": "code",
   "execution_count": 268,
   "metadata": {},
   "outputs": [
    {
     "name": "stdout",
     "output_type": "stream",
     "text": [
      "0.6260903794678003\n",
      "0.6627145331443867\n"
     ]
    }
   ],
   "source": [
    "from sklearn import model_selection as ms\n",
    "from sklearn.model_selection import cross_val_score\n",
    "scoring = 'accuracy'\n",
    "\n",
    "\n",
    "kfoldMean = ms.cross_val_score(svc, X_train, y_train, cv = ms.KFold(), scoring=scoring).mean()\n",
    "Kfold_shuggle = ms.cross_val_score(svc, X_train, y_train, cv = ms.KFold(shuffle = True), scoring=scoring).mean()\n",
    "print(kfoldMean)\n",
    "print(Kfold_shuggle)"
   ]
  },
  {
   "cell_type": "code",
   "execution_count": 269,
   "metadata": {
    "collapsed": true
   },
   "outputs": [],
   "source": [
    "#save mode\n",
    "import pickle\n",
    "# filename = 'svc.sav'\n",
    "filename = 'models/rf.sav'\n",
    "pickle.dump(rf, open(filename, 'wb'), protocol=2)"
   ]
  },
  {
   "cell_type": "code",
   "execution_count": 27,
   "metadata": {
    "collapsed": true
   },
   "outputs": [],
   "source": [
    "\n",
    "#save mode\n",
    "import pickle\n",
    "filename = 'models/logreg.sav'\n",
    "# filename = 'rf.sav'\n",
    "pickle.dump(logreg, open(filename, 'wb'), protocol=2)"
   ]
  },
  {
   "cell_type": "code",
   "execution_count": null,
   "metadata": {
    "collapsed": true
   },
   "outputs": [],
   "source": [
    "file = open(filename, 'rb')\n",
    "svc = pickle.load(file)\n",
    "svc"
   ]
  },
  {
   "cell_type": "code",
   "execution_count": null,
   "metadata": {
    "collapsed": true
   },
   "outputs": [],
   "source": []
  }
 ],
 "metadata": {
  "kernelspec": {
   "display_name": "Python 3",
   "language": "python",
   "name": "python3"
  },
  "language_info": {
   "codemirror_mode": {
    "name": "ipython",
    "version": 3
   },
   "file_extension": ".py",
   "mimetype": "text/x-python",
   "name": "python",
   "nbconvert_exporter": "python",
   "pygments_lexer": "ipython3",
   "version": "3.6.1"
  }
 },
 "nbformat": 4,
 "nbformat_minor": 2
}
